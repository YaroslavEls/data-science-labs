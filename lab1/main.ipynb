{
 "cells": [
  {
   "cell_type": "code",
   "execution_count": null,
   "id": "bdbb106c",
   "metadata": {},
   "outputs": [],
   "source": [
    "import numpy\n",
    "import math\n",
    "import matplotlib.pyplot as pyplot"
   ]
  },
  {
   "cell_type": "code",
   "execution_count": null,
   "id": "e4299070",
   "metadata": {},
   "outputs": [],
   "source": [
    "n = 10000\n",
    "S1 = numpy.zeros((n))\n",
    "S2 = numpy.zeros((n))\n",
    "S3 = numpy.zeros((n))"
   ]
  },
  {
   "cell_type": "code",
   "execution_count": null,
   "id": "0b337d70",
   "metadata": {},
   "outputs": [],
   "source": [
    "for i in range(n):\n",
    "    S1[i] = numpy.random.exponential()\n",
    "    S2[i] = 0.001*i\n",
    "    S3[i] = S2[i]+S1[i]"
   ]
  },
  {
   "cell_type": "code",
   "execution_count": null,
   "id": "17f22914",
   "metadata": {},
   "outputs": [],
   "source": [
    "pyplot.title('Гістограма розподілу стохастичної величини (похибки)')\n",
    "pyplot.hist(S1, bins=20)\n",
    "pyplot.show()\n",
    "\n",
    "median = numpy.median(S1)\n",
    "print('Математичне очікування =', median)\n",
    "variance = numpy.var(S1)\n",
    "print('Дисперсія =', variance)\n",
    "devation = math.sqrt(variance)\n",
    "print('Середньоквадратичне відхилення =', devation)"
   ]
  },
  {
   "cell_type": "code",
   "execution_count": null,
   "id": "25256f4c",
   "metadata": {},
   "outputs": [],
   "source": [
    "pyplot.title('Гістограма розподілу експериментальних даних')\n",
    "pyplot.hist(S3, bins=20)\n",
    "pyplot.show()\n",
    "\n",
    "median = numpy.median(S3)\n",
    "print('Математичне очікування =', median)\n",
    "variance = numpy.var(S3)\n",
    "print('Дисперсія =', variance)\n",
    "devation = math.sqrt(variance)\n",
    "print('Середньоквадратичне відхилення =', devation)"
   ]
  },
  {
   "cell_type": "code",
   "execution_count": null,
   "id": "094f9cb2",
   "metadata": {},
   "outputs": [],
   "source": []
  }
 ],
 "metadata": {
  "kernelspec": {
   "display_name": "Python 3 (ipykernel)",
   "language": "python",
   "name": "python3"
  },
  "language_info": {
   "codemirror_mode": {
    "name": "ipython",
    "version": 3
   },
   "file_extension": ".py",
   "mimetype": "text/x-python",
   "name": "python",
   "nbconvert_exporter": "python",
   "pygments_lexer": "ipython3",
   "version": "3.10.4"
  }
 },
 "nbformat": 4,
 "nbformat_minor": 5
}
