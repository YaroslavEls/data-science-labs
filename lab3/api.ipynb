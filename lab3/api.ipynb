{
 "cells": [
  {
   "cell_type": "code",
   "execution_count": 1,
   "id": "3e488bfb",
   "metadata": {},
   "outputs": [],
   "source": [
    "import numpy\n",
    "import math\n",
    "import matplotlib.pyplot as pyplot"
   ]
  },
  {
   "cell_type": "code",
   "execution_count": 2,
   "id": "5f37aad2",
   "metadata": {},
   "outputs": [],
   "source": [
    "def stat_chars(S, text):\n",
    "    median = numpy.median(S)\n",
    "    variance = numpy.var(S)\n",
    "    devation = math.sqrt(variance)\n",
    "    print(text)\n",
    "    print('Математичне очікування =', median)\n",
    "    print('Дисперсія =', variance)\n",
    "    print('Середньоквадратичне відхилення =', devation)\n",
    "    print('')"
   ]
  },
  {
   "cell_type": "code",
   "execution_count": 3,
   "id": "b20de456",
   "metadata": {},
   "outputs": [],
   "source": [
    "def graphics(models, hist=False):\n",
    "    for key, value in models:\n",
    "        if hist:\n",
    "            pyplot.hist(value, label=key, alpha=0.5)\n",
    "            continue\n",
    "        pyplot.plot(value, label=key, alpha=0.9)\n",
    "    pyplot.legend()\n",
    "    pyplot.show()"
   ]
  },
  {
   "cell_type": "code",
   "execution_count": 4,
   "id": "5d233eab",
   "metadata": {},
   "outputs": [],
   "source": [
    "def lin_model(n):\n",
    "    sample = numpy.zeros(n)\n",
    "    for i in range(n):\n",
    "        sample[i] = 0.001*i\n",
    "    return sample"
   ]
  },
  {
   "cell_type": "code",
   "execution_count": 5,
   "id": "62df0616",
   "metadata": {},
   "outputs": [],
   "source": [
    "def rand_exp_model(n, dsig):\n",
    "    sample = numpy.random.exponential(dsig, n)\n",
    "    return sample"
   ]
  },
  {
   "cell_type": "code",
   "execution_count": 6,
   "id": "4d1384e0",
   "metadata": {},
   "outputs": [],
   "source": [
    "def additive_model(sample1, sample2, n):\n",
    "    sample = numpy.zeros(n)\n",
    "    for i in range(n):\n",
    "        sample[i] = sample1[i] + sample2[i]\n",
    "    return sample"
   ]
  },
  {
   "cell_type": "code",
   "execution_count": 7,
   "id": "a06da63e",
   "metadata": {},
   "outputs": [],
   "source": [
    "def add_anomalies(sample1, sample2, n, an, dsig):\n",
    "    sample = numpy.zeros(n)\n",
    "    anomalies = numpy.random.exponential((3*dsig), an)\n",
    "    \n",
    "    for i in range(n):\n",
    "        sample[i] = sample1[i]\n",
    "        \n",
    "    for i in range(an):\n",
    "        num = numpy.random.randint(1, n)\n",
    "        sample[num] = sample2[num] + anomalies[i]\n",
    "        \n",
    "    return sample"
   ]
  },
  {
   "cell_type": "code",
   "execution_count": 8,
   "id": "d173c2f9",
   "metadata": {},
   "outputs": [],
   "source": [
    "def speed_MNK(S):\n",
    "    iter = len(S)\n",
    "    Yin = numpy.zeros((iter, 1))\n",
    "    F = numpy.ones((iter, 3))\n",
    "    for i in range(iter):\n",
    "        Yin[i, 0] = float(S[i])\n",
    "        F[i, 1] = float(i)\n",
    "        F[i, 2] = float(i * i)\n",
    "    FT = F.T\n",
    "    FFT = FT.dot(F)\n",
    "    FFTI = numpy.linalg.inv(FFT)\n",
    "    FFTIFT = FFTI.dot(FT)\n",
    "    C = FFTIFT.dot(Yin)\n",
    "    Yout = F.dot(C)\n",
    "    return C[1,0]"
   ]
  },
  {
   "cell_type": "code",
   "execution_count": 9,
   "id": "9b97e816",
   "metadata": {},
   "outputs": [],
   "source": [
    "def remove_anomalies_MNK(S, Q, n_Wind):\n",
    "    S0 = numpy.zeros(len(S))\n",
    "    for i in range(len(S)):\n",
    "        S0[i] = S[i]\n",
    "    \n",
    "    iter = len(S0)\n",
    "    j_Wind = math.ceil(iter-n_Wind)+1\n",
    "    S0_Wind = numpy.zeros((n_Wind))\n",
    "\n",
    "    Speed_standart = speed_MNK(S0)\n",
    "    Yout_S0 = anti_aliasing_MNK(S0)\n",
    "\n",
    "    for j in range(j_Wind):\n",
    "        for i in range(n_Wind):\n",
    "            l = (j+i)\n",
    "            S0_Wind[i] = S0[l]\n",
    "\n",
    "        Speed = speed_MNK(S0_Wind)\n",
    "        dS = numpy.var(S0_Wind)\n",
    "        scvS = math.sqrt(dS)\n",
    "\n",
    "        Speed_standart_1 = abs(Speed_standart * math.sqrt(iter))\n",
    "        Speed_1 = abs(Q * Speed_standart * math.sqrt(n_Wind) * scvS)\n",
    "\n",
    "        if Speed_1 > Speed_standart_1:\n",
    "            S0[l] = Yout_S0[l,0]\n",
    "            \n",
    "    return S0"
   ]
  },
  {
   "cell_type": "code",
   "execution_count": null,
   "id": "8e212b8e",
   "metadata": {},
   "outputs": [],
   "source": [
    "def anti_aliasing_MNK(S):\n",
    "    iter = len(S)\n",
    "    Yin = numpy.zeros((iter, 1))\n",
    "    F = numpy.ones((iter, 3))\n",
    "    for i in range(iter):\n",
    "        Yin[i, 0] = float(S[i])\n",
    "        F[i, 1] = float(i)\n",
    "        F[i, 2] = float(i * i)\n",
    "    FT = F.T\n",
    "    FFT = FT.dot(F)\n",
    "    FFTI = numpy.linalg.inv(FFT)\n",
    "    FFTIFT = FFTI.dot(FT)\n",
    "    C = FFTIFT.dot(Yin)\n",
    "    Yout = F.dot(C)\n",
    "    return Yout"
   ]
  },
  {
   "cell_type": "code",
   "execution_count": 11,
   "id": "aef3d82c",
   "metadata": {},
   "outputs": [],
   "source": [
    "def anti_aliasing_recurrent(S):\n",
    "    iter = len(S)\n",
    "    Yin = numpy.zeros((iter, 1))\n",
    "    YoutAB = numpy.zeros((iter, 1))\n",
    "    T = 1\n",
    "    for i in range(iter):\n",
    "        Yin[i, 0] = float(S[i])\n",
    "    \n",
    "    Yspeed_retro = (Yin[1, 0]-Yin[0, 0])/T\n",
    "    Yextra = Yin[0, 0] + Yspeed_retro\n",
    "    alfa = 2*(2*1-1)/(1*(1+1))\n",
    "    beta = (6/1)*(1+1)\n",
    "    YoutAB[0, 0] = Yin[0, 0] + alfa*(Yin[0, 0])\n",
    "    \n",
    "    for i in range(1, iter):\n",
    "        YoutAB[i,0] = Yextra + alfa*(Yin[i, 0]- Yextra)\n",
    "        Yspeed = Yspeed_retro + (beta/T)*(Yin[i, 0]- Yextra)\n",
    "        Yspeed_retro = Yspeed\n",
    "        Yextra = YoutAB[i,0] + Yspeed_retro\n",
    "        alfa = (2 * (2 * i - 1)) / (i * (i + 1))\n",
    "        beta = 6 /(i* (i + 1))\n",
    "        \n",
    "    return YoutAB"
   ]
  },
  {
   "cell_type": "code",
   "execution_count": null,
   "id": "19ba9927",
   "metadata": {},
   "outputs": [],
   "source": []
  }
 ],
 "metadata": {
  "kernelspec": {
   "display_name": "Python 3 (ipykernel)",
   "language": "python",
   "name": "python3"
  },
  "language_info": {
   "codemirror_mode": {
    "name": "ipython",
    "version": 3
   },
   "file_extension": ".py",
   "mimetype": "text/x-python",
   "name": "python",
   "nbconvert_exporter": "python",
   "pygments_lexer": "ipython3",
   "version": "3.10.4"
  }
 },
 "nbformat": 4,
 "nbformat_minor": 5
}
